{
  "metadata": {
    "kernelspec": {
      "display_name": "SQLite",
      "language": "sql",
      "name": "SQLite"
    },
    "language_info": {
      "codemirror_mode": "sql",
      "file_extension": "",
      "mimetype": "",
      "name": "sql",
      "version": "3.32.3"
    }
  },
  "nbformat_minor": 4,
  "nbformat": 4,
  "cells": [
    {
      "cell_type": "raw",
      "source": "# Sentiment Analysis Using Python Project\n\n## Sentiment Analysis – One of the most popular projects in the industry. Every customer facing industry (retail, telecom, finance, etc.) is interested in identifying their customers’ sentiment, whether they think positive or negative about them.\n\nPython sentiment analysis is a methodology for analyzing a piece of text to discover the sentiment hidden within it. It accomplishes this by combining machine learning and natural language processing (NLP). Sentiment analysis allows you to examine the feelings expressed in a piece of text.",
      "metadata": {}
    },
    {
      "cell_type": "raw",
      "source": "## About Sentiment Analysis\rIn this machine learning project, we build a binary text classifier to classify the sentiment behind the text. We use the various NLP preprocessing techniques to clean the data and utilize the LSTM layers to build the text classifier.",
      "metadata": {}
    },
    {
      "cell_type": "raw",
      "source": "## Python Sentiment Analysis Dataset\rThe dataset contains more than 14000 tweets data samples classified into 3 types: positive, negative, neutral",
      "metadata": {}
    },
    {
      "cell_type": "raw",
      "source": "## Tools and Libraries used\nPython – 3.x\nPandas – 1.2.4\nMatplotlib – 3.3.4\nTensorFlow – 2.4.1\nTo install the above modules into your local machine, run the following command in your command line.",
      "metadata": {}
    },
    {
      "cell_type": "raw",
      "source": "Copy Sentiment Analysis Python Code\nPlease Copy the source code of python sentiment analysis project",
      "metadata": {}
    },
    {
      "cell_type": "code",
      "source": "Sentiment Analysis Python Code:\n\n#!/usr/bin/env python\n# coding: utf-8\n\n# ## Sentiment Analysis on US Airline Reviews\n\n# In[1]:\n\n\nimport pandas as pd\nimport matplotlib.pyplot as plt\n\nfrom tensorflow.keras.preprocessing.text import Tokenizer\nfrom tensorflow.keras.preprocessing.sequence import pad_sequences\nfrom tensorflow.keras.models import Sequential\nfrom tensorflow.keras.layers import LSTM,Dense, Dropout, SpatialDropout1D\nfrom tensorflow.keras.layers import Embedding\n\ndf = pd.read_csv(\"./Tweets.csv\")ra\n\n\n# In[2]:\n\n\ndf.head()\n\n\n# In[23]:\n\n\ndf.columns\n\n\n# In[4]:\n\n\ntweet_df = df[['text','airline_sentiment']]\nprint(tweet_df.shape)\ntweet_df.head(5)\n\n\n# In[22]:\n\n\ntweet_df = tweet_df[tweet_df['airline_sentiment'] != 'neutral']\nprint(tweet_df.shape)\ntweet_df.head(5)\n\n\n# In[21]:\n\n\ntweet_df[\"airline_sentiment\"].value_counts()\n\n\n# In[6]:\n\n\nsentiment_label = tweet_df.airline_sentiment.factorize()\nsentiment_label\n\n\n# In[7]:\n\n\ntweet = tweet_df.text.values\ntokenizer = Tokenizer(num_words=5000)\ntokenizer.fit_on_texts(tweet)\nvocab_size = len(tokenizer.word_index) + 1\nencoded_docs = tokenizer.texts_to_sequences(tweet)\npadded_sequence = pad_sequences(encoded_docs, maxlen=200)\n\n\n# In[8]:\n\n\nprint(tokenizer.word_index)\n\n\n# In[9]:\n\n\nprint(tweet[0])\nprint(encoded_docs[0])\n\n\n# In[10]:\n\n\nprint(padded_sequence[0])\n\n\n# In[11]:\n\n\nembedding_vector_length = 32\nmodel = Sequential() \nmodel.add(Embedding(vocab_size, embedding_vector_length, input_length=200) )\nmodel.add(SpatialDropout1D(0.25))\nmodel.add(LSTM(50, dropout=0.5, recurrent_dropout=0.5))\nmodel.add(Dropout(0.2))\nmodel.add(Dense(1, activation='sigmoid')) \nmodel.compile(loss='binary_crossentropy',optimizer='adam', metrics=['accuracy'])  \nprint(model.summary()) \n\n\n# In[12]:\n\n\nhistory = model.fit(padded_sequence,sentiment_label[0],validation_split=0.2, epochs=5, batch_size=32)\n\n\n# In[16]:\n\n\nplt.plot(history.history['accuracy'], label='acc')\nplt.plot(history.history['val_accuracy'], label='val_acc')\nplt.legend()\nplt.show()\nplt.savefig(\"Accuracy plot.jpg\")\n\n\n# In[25]:\n\n\nplt.plot(history.history['loss'], label='loss')\nplt.plot(history.history['val_loss'], label='val_loss')\nplt.legend()\nplt.show()\nplt.savefig(\"Loss plot.jpg\")\n\n\n# In[18]:\n\n\ndef predict_sentiment(text):\n    tw = tokenizer.texts_to_sequences([text])\n    tw = pad_sequences(tw,maxlen=200)\n    prediction = int(model.predict(tw).round().item())\n    print(\"Predicted label: \", sentiment_label[1][prediction])\n\n\n# In[19]:\n\n\ntest_sentence1 = \"I enjoyed my journey on this flight.\"\npredict_sentiment(test_sentence1)\n\ntest_sentence2 = \"This is the worst flight experience of my life!\"\npredict_sentiment(test_sentence2)\n\n\n# In[ ]:",
      "metadata": {
        "trusted": true
      },
      "outputs": [],
      "execution_count": null
    },
    {
      "cell_type": "raw",
      "source": "## Steps to build Sentiment Analysis Text Classifier in Python\n1. Data Preprocessing\nAs we are dealing with the text data, we need to preprocess it using word embeddings.",
      "metadata": {}
    },
    {
      "cell_type": "code",
      "source": "import pandas as pd\ndf = pd.read_csv(\"./DesktopDataFlair/Sentiment-Analysis/Tweets.csv\")",
      "metadata": {
        "trusted": true
      },
      "outputs": [],
      "execution_count": null
    },
    {
      "cell_type": "code",
      "source": "tweet_id airline_sentiment airline_sentiment_confidence negativereason negativereason_confidence. airline airline_sentiment_gold\nname\n0 570306133677760513\nneutral\n1.0000\nNaN\nNaN Virgin America\nNaN\ncairdin\n1 570301130888122368\npositive\n0.3486\nNaN\nNaN jnardino\n0.0000\nVirgin America\n2 570301083672813571\nneutral\n0.6837\nNaN\nNaN Virgin America\nNaN yvonnalynn\n3 570301031407624196\nnegative\n1.0000\nBad Flight\n0.7033\nVirgin America\nNaN jnardino\n4 570300817074462722\nnegative\n1.0000\nCan't Tell\n1.0000\nVirgin America\nNaN\njnardino",
      "metadata": {
        "trusted": true
      },
      "outputs": [],
      "execution_count": null
    },
    {
      "cell_type": "code",
      "source": "We only need the text and sentiment column.\n\nreview_df = df[['text','airline_sentiment']]\n\nprint(review_df.shape)\nreview_df.head(5)",
      "metadata": {
        "trusted": true
      },
      "outputs": [],
      "execution_count": null
    },
    {
      "cell_type": "code",
      "source": "(14640, 2)\nOut[4]:\ntext airline_sentiment\n@VirginAmerica What @dhepburn said\nneutral\n1 @VirginAmerica plus you've added commercials t...\n2\n3\n4\npositive\n@VirginAmerica I didn't today... Must mean I n...\nneutral\n@VirginAmerica it's really aggressive to blast....\nnegative\n@VirginAmerica and it's a really big bad thing.\nnegative",
      "metadata": {
        "trusted": true
      },
      "outputs": [],
      "execution_count": null
    },
    {
      "cell_type": "code",
      "source": "There are more than 14,000 data samples in the sentiment analysis dataset.\n\nLet’s check the column names.\n\ndf.columns\n\nOut[23]: Index(['tweet_id', 'airline_sentiment', 'airline_sentiment_confidence', 'negativereason', 'negativereason_confidence', 'airline', 'airline_sentiment_gold', 'name', 'negativereason_gold', 'retweet_count', 'text', 'tweet_coord', 'tweet_created', 'tweet_location', 'user_timezone'], dtype='object')",
      "metadata": {
        "trusted": true
      },
      "outputs": [],
      "execution_count": null
    },
    {
      "cell_type": "code",
      "source": "We don’t really need neutral reviews in our dataset for this binary classification problem. So, drop those rows from the dataset.\n\nreview_df = review_df[review_df['airline_sentiment'] != 'neutral']\n\nprint(review_df.shape)\nreview_df.head(5)",
      "metadata": {
        "trusted": true
      },
      "outputs": [],
      "execution_count": null
    },
    {
      "cell_type": "raw",
      "source": "(11541, 2)\nOut[22]:\ntext airline_sentiment\n1 @VirginAmerica plus you've added commercials t...\n3\n4\n5\npositive\n@VirginAmerica it's really aggressive to blast...\nnegative\n@VirginAmerica and it's a really big bad thing...\nnegative\n@VirginAmerica seriously would pay $30 a fligh...\nnegative\n6 @VirginAmerica yes, nearly every time I fly VX...\npositive",
      "metadata": {}
    },
    {
      "cell_type": "code",
      "source": "Check the values of the airline_sentiment column.\n\nreview_df[\"airline_sentiment\"].value_counts()",
      "metadata": {
        "trusted": true
      },
      "outputs": [],
      "execution_count": null
    },
    {
      "cell_type": "raw",
      "source": "The labels for this dataset are categorical. Machines understand only numeric data. So, convert the categorical values to numeric using the factorize() method. This returns an array of numeric values and an Index of categories.",
      "metadata": {}
    },
    {
      "cell_type": "code",
      "source": "sentiment_label = review_df.airline_sentiment.factorize()\nsentiment_label",
      "metadata": {
        "trusted": true
      },
      "outputs": [],
      "execution_count": null
    },
    {
      "cell_type": "raw",
      "source": "If you observe, the 0 here represents positive sentiment and the 1 represents negative sentiment.\n\nNow, the major part in python sentiment analysis. We should transform our text data into something that our machine learning model understands. Basically, we need to convert the text into an array of vector embeddings. Word embeddings are a beautiful way of representing the relationship between the words in the text.\n\nTo do this, we first give each of the unique words a unique number and then replace that word with the number assigned.\n\nFirst, retrieve all the text data from the dataset.",
      "metadata": {}
    },
    {
      "cell_type": "code",
      "source": "tweet = review_df.text.values",
      "metadata": {
        "trusted": true
      },
      "outputs": [],
      "execution_count": null
    },
    {
      "cell_type": "raw",
      "source": "Now, before proceeding ahead in python sentiment analysis project let’s tokenize all the words in the text with the help of Tokenizer. In tokenization, we break down all the words/sentences of a text into small parts called tokens.",
      "metadata": {}
    },
    {
      "cell_type": "code",
      "source": "from tensorflow.keras.preprocessing.text import Tokenizer\n\ntokenizer = Tokenizer(num_words=5000)\n\ntokenizer.fit_on_texts(tweet)",
      "metadata": {
        "trusted": true
      },
      "outputs": [],
      "execution_count": null
    },
    {
      "cell_type": "markdown",
      "source": "The fit_on_texts() method creates an association between the words and the assigned numbers. This association is stored in the form of a dictionary in the tokenizer.word_index attribute.\r\n\r\nNow, replace the words with their assigned numbers using the text_to_sequence() method.",
      "metadata": {}
    },
    {
      "cell_type": "code",
      "source": "encoded_docs = tokenizer.texts_to_sequences(tweet)",
      "metadata": {
        "trusted": true
      },
      "outputs": [],
      "execution_count": null
    },
    {
      "cell_type": "raw",
      "source": "Each of the sentences in the dataset is not of equal length. Use padding to pad the sentences to have equal length.",
      "metadata": {}
    },
    {
      "cell_type": "code",
      "source": "from tensorflow.keras.preprocessing.sequence import pad_sequences\n\npadded_sequence = pad_sequences(encoded_docs, maxlen=200)",
      "metadata": {
        "trusted": true
      },
      "outputs": [],
      "execution_count": null
    },
    {
      "cell_type": "raw",
      "source": "## 2. Build the Text Classifier\nFor sentiment analysis project, we use LSTM layers in the machine learning model. The architecture of our model consists of an embedding layer, an LSTM layer, and a Dense layer at the end. To avoid overfitting, we introduced the Dropout mechanism in-between the LSTM layers.\n\nLSTM stands for Long Short Term Memory Networks. It is a variant of Recurrent Neural Networks. Recurrent Neural Networks are usually used with sequential data such as text and audio. Usually, while computing an embedding matrix, the meaning of every word and its calculations (which are called hidden states) are stored. If the reference of a word, let’s say a word is used after 100 words in a text, then all these calculations RNNs cannot store in its memory. That’s why RNNs are not capable of learning these long-term dependencies.\n\nLSTMs on the other hand work well with such text. LSTM networks work well with time-series data.",
      "metadata": {}
    },
    {
      "cell_type": "raw",
      "source": "Dropout is one of the regularization techniques. It is used to avoid overfitting. In the dropout mechanism, we drop some neurons randomly. The layer takes an argument, a number between 0 and 1 that represents the probability to drop the neurons. This creates a robust model avoiding overfitting.",
      "metadata": {}
    },
    {
      "cell_type": "code",
      "source": "from tensorflow.keras.models import Sequential\nfrom tensorflow.keras.layers import LSTM,Dense, Dropout, SpatialDropout1D\nfrom tensorflow.keras.layers import Embedding\n\n\nembedding_vector_length = 32\nmodel = Sequential()\nmodel.add(Embedding(vocab_size, embedding_vector_length, input_length=200))\nmodel.add(SpatialDropout1D(0.25))\nmodel.add(LSTM(50, dropout=0.5, recurrent_dropout=0.5))\nmodel.add(Dropout(0.2))\nmodel.add(Dense(1, activation='sigmoid'))\nmodel.compile(loss='binary_crossentropy',optimizer='adam', metrics=['accuracy'])\n\nprint(model.summary())",
      "metadata": {
        "trusted": true
      },
      "outputs": [],
      "execution_count": null
    },
    {
      "cell_type": "raw",
      "source": "## 3. Train the sentiment analysis model\nTrain the sentiment analysis model for 5 epochs on the whole dataset with a batch size of 32 and a validation split of 20%.",
      "metadata": {}
    },
    {
      "cell_type": "code",
      "source": "history = model.fit(padded_sequence,sentiment_label[0],validation_split=0.2, epochs=5, batch_size=32)",
      "metadata": {
        "trusted": true
      },
      "outputs": [],
      "execution_count": null
    },
    {
      "cell_type": "raw",
      "source": "The python sentiment analysis model obtained 96% accuracy on the training set and 94.33% accuracy on the test set.",
      "metadata": {}
    },
    {
      "cell_type": "raw",
      "source": "## Let’s plot these metrics using the matplotlib.",
      "metadata": {}
    },
    {
      "cell_type": "code",
      "source": "import matplotlib.pyplot as plt\n\nplt.plot(history.history['accuracy'], label='acc')\nplt.plot(history.history['val_accuracy'], label='val_acc')\nplt.legend()\nplt.show()\n\nplt.savefig(\"Accuracy plot.jpg\")",
      "metadata": {
        "trusted": true
      },
      "outputs": [],
      "execution_count": null
    },
    {
      "cell_type": "code",
      "source": "plt.plot(history.history['loss'], label='loss')\nplt.plot(history.history['val_loss'], label='val_loss')\n\nplt.legend()\nplt.show()\n\nplt.savefig(\"Loss plt.jpg\")",
      "metadata": {
        "trusted": true
      },
      "outputs": [],
      "execution_count": null
    },
    {
      "cell_type": "raw",
      "source": "The above two programe is showing the output in graph",
      "metadata": {}
    },
    {
      "cell_type": "raw",
      "source": "Let’s execute sentiment analysis model\nDefine a function that takes a text as input and outputs its prediction label.",
      "metadata": {}
    },
    {
      "cell_type": "code",
      "source": "def predict_sentiment(text):\n    tw = tokenizer.texts_to_sequences([text])\n    tw = pad_sequences(tw,maxlen=200)\n    prediction = int(model.predict(tw).round().item())\n    print(\"Predicted label: \", sentiment_label[1][prediction])\n\n\ntest_sentence1 = \"I enjoyed my journey on this flight.\"\npredict_sentiment(test_sentence1)\n\ntest_sentence2 = \"This is the worst flight experience of my life!\"\npredict_sentiment(test_sentence2)\n",
      "metadata": {
        "trusted": true
      },
      "outputs": [],
      "execution_count": null
    },
    {
      "cell_type": "raw",
      "source": "## Python Sentiment Analysis Output",
      "metadata": {}
    },
    {
      "cell_type": "code",
      "source": "In [19]: test_sentence1 = \"I enjoyed my journey on this flight.\" predict_sentiment(test_sentence1)\ntest_sentence2 = \"This is the worst flight experience of my life!\" predict_sentiment(test_sentence2)\nPredicted label: positive\nPredicted label:\nnegative",
      "metadata": {
        "trusted": true
      },
      "outputs": [],
      "execution_count": null
    },
    {
      "cell_type": "raw",
      "source": "## Summary\nWe have successfully developed python sentiment analysis model. In this machine learning project, we built a binary text classifier that classifies the sentiment of the tweets into positive and negative. We obtained more than 94% accuracy on validation.",
      "metadata": {}
    }
  ]
}